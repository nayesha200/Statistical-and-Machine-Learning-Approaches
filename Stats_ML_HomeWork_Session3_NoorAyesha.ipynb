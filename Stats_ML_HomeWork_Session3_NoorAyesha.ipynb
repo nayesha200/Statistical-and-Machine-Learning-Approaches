{
 "cells": [
  {
   "cell_type": "markdown",
   "id": "younger-healthcare",
   "metadata": {},
   "source": [
    "\n",
    "# Statistical & Machine Learning Approaches for Marketing\n",
    "\n",
    "## Homework Session 3"
   ]
  },
  {
   "cell_type": "markdown",
   "id": "front-spirit",
   "metadata": {},
   "source": [
    "### Chapter 5 Exercise 3 (Page 198, Conceptual)"
   ]
  },
  {
   "cell_type": "markdown",
   "id": "protecting-slope",
   "metadata": {},
   "source": [
    "We now review k-fold cross-validation.\n",
    "\n",
    "(a) Explain how k-fold cross-validation is implemented."
   ]
  },
  {
   "cell_type": "markdown",
   "id": "separated-tobago",
   "metadata": {},
   "source": [
    "The data is divided into 'k' number of equal parts. \n",
    "The Machine Learning model is trained 'k' times, each time on different sets of 'k-1' parts of the data. The one exluded part is used to test the model and is called as the validation data. \n",
    "The accuracy is calculated 'k' times for each of the 'k' parts of data as test data and the model accuracy is the mean of all accuracies."
   ]
  },
  {
   "cell_type": "markdown",
   "id": "generic-detroit",
   "metadata": {},
   "source": [
    "(b) What are the advantages and disadvantages of k-fold cross-validation relative to:\n",
    "\n",
    "i. The validation set approach?\n",
    "\n",
    "ii. LOOCV?"
   ]
  },
  {
   "cell_type": "markdown",
   "id": "lesser-procedure",
   "metadata": {},
   "source": [
    "(i) Compared to validation set approach, k-fold is more accuracte and the variance is low. All the data is fitted and hence, the model is less underfitted than a validation set approach.\n",
    "\n",
    "(ii) LOOCV needs lots of computation power as it fits a huge number of ML models. The randomness of validation data in k-fold cross validation allows a more accurate result, as LOOCV can be fitted on the same data multiple times."
   ]
  },
  {
   "cell_type": "markdown",
   "id": "polished-egyptian",
   "metadata": {},
   "source": [
    "### Chapter 5 Exercise 8 (Page 200, Applied)"
   ]
  },
  {
   "cell_type": "code",
   "execution_count": 1,
   "id": "71961ccb",
   "metadata": {},
   "outputs": [
    {
     "data": {
      "text/html": [
       "<style>\n",
       ".list-inline {list-style: none; margin:0; padding: 0}\n",
       ".list-inline>li {display: inline-block}\n",
       ".list-inline>li:not(:last-child)::after {content: \"\\00b7\"; padding: 0 .5ex}\n",
       "</style>\n",
       "<ol class=list-inline><li>-2.03170924195364</li><li>0.158309456303644</li><li>-3.14310061671917</li><li>-3.33653210079692</li><li>-0.542227615476905</li><li>-0.399517853419823</li><li>0.728962366143029</li><li>0.558252194216153</li><li>0.296918379655992</li><li>1.19026355934314</li><li>-3.69491988806335</li><li>-0.375756991900613</li><li>0.0391619401760244</li><li>-12.6751874210159</li><li>-1.61338896664745</li><li>-0.441779596895482</li><li>-0.336707380885879</li><li>-1.11693067749283</li><li>-0.0333989761907501</li><li>-0.288866719739903</li><li>-1.27601890956194</li><li>0.901700740058922</li><li>-0.15113429867018</li><li>-10.0839485655757</li><li>-0.248732908825326</li><li>0.650236696720176</li><li>-0.277904390650796</li><li>-5.83461170485712</li><li>-1.61706548426503</li><li>-0.25567900753094</li><li>-2.27318025552277</li><li>-0.712812847387335</li><li>0.618589247373865</li><li>-1.57798908715395</li><li>-4.86308774214484</li><li>-2.29588536197385</li><li>-1.00619521574078</li><li>-0.594629459215029</li><li>-1.97218104671368</li><li>-0.458595475457314</li><li>-2.13301904938203</li><li>0.794837349958867</li><li>-1.9395249541184</li><li>-0.526615036313904</li><li>-2.75344461314115</li><li>-2.45941295240528</li><li>2.18590849353409</li><li>-0.395357167919768</li><li>-1.42389008535356</li><li>-2.31219945919899</li><li>0.531316397674047</li><li>-1.3797388380365</li><li>-0.209673970874409</li><li>-4.60964724911288</li><li>-4.16155046771433</li><li>-6.93875991411386</li><li>0.363104101690919</li><li>-3.84583555685968</li><li>-1.46386812772832</li><li>1.69775652648394</li><li>-8.70881759726673</li><li>-0.2809666592752</li><li>0.796741634931789</li><li>0.912856568362847</li><li>-2.46742638319825</li><li>2.32360969934298</li><li>-8.57573696304848</li><li>-4.25464189315114</li><li>-0.0381194350885023</li><li>-7.06033293079315</li><li>2.33126930381027</li><li>-1.61219193258535</li><li>0.321751801220392</li><li>-2.75632733788758</li><li>-4.73082764699575</li><li>0.0868383908115858</li><li>-0.0486676373112858</li><li>2.07634791667945</li><li>1.09068049796219</li><li>-0.0766824397903272</li><li>-2.44676040974735</li><li>0.812170438955953</li><li>-1.37776614275589</li><li>-7.63332842026557</li><li>0.409424782679888</li><li>-0.0475161328849369</li><li>0.267324621212103</li><li>-1.25532164203408</li><li>-0.334020783395991</li><li>-0.801694234669182</li><li>-1.30827996048255</li><li>-1.30800968799169</li><li>-2.26441401844803</li><li>0.549988507562447</li><li>-4.65733015666369</li><li>-1.11331216232386</li><li>-3.09480983500529</li><li>-2.24637934986191</li><li>-3.81199001571722</li><li>-1.30269301271052</li></ol>\n"
      ],
      "text/latex": [
       "\\begin{enumerate*}\n",
       "\\item -2.03170924195364\n",
       "\\item 0.158309456303644\n",
       "\\item -3.14310061671917\n",
       "\\item -3.33653210079692\n",
       "\\item -0.542227615476905\n",
       "\\item -0.399517853419823\n",
       "\\item 0.728962366143029\n",
       "\\item 0.558252194216153\n",
       "\\item 0.296918379655992\n",
       "\\item 1.19026355934314\n",
       "\\item -3.69491988806335\n",
       "\\item -0.375756991900613\n",
       "\\item 0.0391619401760244\n",
       "\\item -12.6751874210159\n",
       "\\item -1.61338896664745\n",
       "\\item -0.441779596895482\n",
       "\\item -0.336707380885879\n",
       "\\item -1.11693067749283\n",
       "\\item -0.0333989761907501\n",
       "\\item -0.288866719739903\n",
       "\\item -1.27601890956194\n",
       "\\item 0.901700740058922\n",
       "\\item -0.15113429867018\n",
       "\\item -10.0839485655757\n",
       "\\item -0.248732908825326\n",
       "\\item 0.650236696720176\n",
       "\\item -0.277904390650796\n",
       "\\item -5.83461170485712\n",
       "\\item -1.61706548426503\n",
       "\\item -0.25567900753094\n",
       "\\item -2.27318025552277\n",
       "\\item -0.712812847387335\n",
       "\\item 0.618589247373865\n",
       "\\item -1.57798908715395\n",
       "\\item -4.86308774214484\n",
       "\\item -2.29588536197385\n",
       "\\item -1.00619521574078\n",
       "\\item -0.594629459215029\n",
       "\\item -1.97218104671368\n",
       "\\item -0.458595475457314\n",
       "\\item -2.13301904938203\n",
       "\\item 0.794837349958867\n",
       "\\item -1.9395249541184\n",
       "\\item -0.526615036313904\n",
       "\\item -2.75344461314115\n",
       "\\item -2.45941295240528\n",
       "\\item 2.18590849353409\n",
       "\\item -0.395357167919768\n",
       "\\item -1.42389008535356\n",
       "\\item -2.31219945919899\n",
       "\\item 0.531316397674047\n",
       "\\item -1.3797388380365\n",
       "\\item -0.209673970874409\n",
       "\\item -4.60964724911288\n",
       "\\item -4.16155046771433\n",
       "\\item -6.93875991411386\n",
       "\\item 0.363104101690919\n",
       "\\item -3.84583555685968\n",
       "\\item -1.46386812772832\n",
       "\\item 1.69775652648394\n",
       "\\item -8.70881759726673\n",
       "\\item -0.2809666592752\n",
       "\\item 0.796741634931789\n",
       "\\item 0.912856568362847\n",
       "\\item -2.46742638319825\n",
       "\\item 2.32360969934298\n",
       "\\item -8.57573696304848\n",
       "\\item -4.25464189315114\n",
       "\\item -0.0381194350885023\n",
       "\\item -7.06033293079315\n",
       "\\item 2.33126930381027\n",
       "\\item -1.61219193258535\n",
       "\\item 0.321751801220392\n",
       "\\item -2.75632733788758\n",
       "\\item -4.73082764699575\n",
       "\\item 0.0868383908115858\n",
       "\\item -0.0486676373112858\n",
       "\\item 2.07634791667945\n",
       "\\item 1.09068049796219\n",
       "\\item -0.0766824397903272\n",
       "\\item -2.44676040974735\n",
       "\\item 0.812170438955953\n",
       "\\item -1.37776614275589\n",
       "\\item -7.63332842026557\n",
       "\\item 0.409424782679888\n",
       "\\item -0.0475161328849369\n",
       "\\item 0.267324621212103\n",
       "\\item -1.25532164203408\n",
       "\\item -0.334020783395991\n",
       "\\item -0.801694234669182\n",
       "\\item -1.30827996048255\n",
       "\\item -1.30800968799169\n",
       "\\item -2.26441401844803\n",
       "\\item 0.549988507562447\n",
       "\\item -4.65733015666369\n",
       "\\item -1.11331216232386\n",
       "\\item -3.09480983500529\n",
       "\\item -2.24637934986191\n",
       "\\item -3.81199001571722\n",
       "\\item -1.30269301271052\n",
       "\\end{enumerate*}\n"
      ],
      "text/markdown": [
       "1. -2.03170924195364\n",
       "2. 0.158309456303644\n",
       "3. -3.14310061671917\n",
       "4. -3.33653210079692\n",
       "5. -0.542227615476905\n",
       "6. -0.399517853419823\n",
       "7. 0.728962366143029\n",
       "8. 0.558252194216153\n",
       "9. 0.296918379655992\n",
       "10. 1.19026355934314\n",
       "11. -3.69491988806335\n",
       "12. -0.375756991900613\n",
       "13. 0.0391619401760244\n",
       "14. -12.6751874210159\n",
       "15. -1.61338896664745\n",
       "16. -0.441779596895482\n",
       "17. -0.336707380885879\n",
       "18. -1.11693067749283\n",
       "19. -0.0333989761907501\n",
       "20. -0.288866719739903\n",
       "21. -1.27601890956194\n",
       "22. 0.901700740058922\n",
       "23. -0.15113429867018\n",
       "24. -10.0839485655757\n",
       "25. -0.248732908825326\n",
       "26. 0.650236696720176\n",
       "27. -0.277904390650796\n",
       "28. -5.83461170485712\n",
       "29. -1.61706548426503\n",
       "30. -0.25567900753094\n",
       "31. -2.27318025552277\n",
       "32. -0.712812847387335\n",
       "33. 0.618589247373865\n",
       "34. -1.57798908715395\n",
       "35. -4.86308774214484\n",
       "36. -2.29588536197385\n",
       "37. -1.00619521574078\n",
       "38. -0.594629459215029\n",
       "39. -1.97218104671368\n",
       "40. -0.458595475457314\n",
       "41. -2.13301904938203\n",
       "42. 0.794837349958867\n",
       "43. -1.9395249541184\n",
       "44. -0.526615036313904\n",
       "45. -2.75344461314115\n",
       "46. -2.45941295240528\n",
       "47. 2.18590849353409\n",
       "48. -0.395357167919768\n",
       "49. -1.42389008535356\n",
       "50. -2.31219945919899\n",
       "51. 0.531316397674047\n",
       "52. -1.3797388380365\n",
       "53. -0.209673970874409\n",
       "54. -4.60964724911288\n",
       "55. -4.16155046771433\n",
       "56. -6.93875991411386\n",
       "57. 0.363104101690919\n",
       "58. -3.84583555685968\n",
       "59. -1.46386812772832\n",
       "60. 1.69775652648394\n",
       "61. -8.70881759726673\n",
       "62. -0.2809666592752\n",
       "63. 0.796741634931789\n",
       "64. 0.912856568362847\n",
       "65. -2.46742638319825\n",
       "66. 2.32360969934298\n",
       "67. -8.57573696304848\n",
       "68. -4.25464189315114\n",
       "69. -0.0381194350885023\n",
       "70. -7.06033293079315\n",
       "71. 2.33126930381027\n",
       "72. -1.61219193258535\n",
       "73. 0.321751801220392\n",
       "74. -2.75632733788758\n",
       "75. -4.73082764699575\n",
       "76. 0.0868383908115858\n",
       "77. -0.0486676373112858\n",
       "78. 2.07634791667945\n",
       "79. 1.09068049796219\n",
       "80. -0.0766824397903272\n",
       "81. -2.44676040974735\n",
       "82. 0.812170438955953\n",
       "83. -1.37776614275589\n",
       "84. -7.63332842026557\n",
       "85. 0.409424782679888\n",
       "86. -0.0475161328849369\n",
       "87. 0.267324621212103\n",
       "88. -1.25532164203408\n",
       "89. -0.334020783395991\n",
       "90. -0.801694234669182\n",
       "91. -1.30827996048255\n",
       "92. -1.30800968799169\n",
       "93. -2.26441401844803\n",
       "94. 0.549988507562447\n",
       "95. -4.65733015666369\n",
       "96. -1.11331216232386\n",
       "97. -3.09480983500529\n",
       "98. -2.24637934986191\n",
       "99. -3.81199001571722\n",
       "100. -1.30269301271052\n",
       "\n",
       "\n"
      ],
      "text/plain": [
       "  [1]  -2.03170924   0.15830946  -3.14310062  -3.33653210  -0.54222762\n",
       "  [6]  -0.39951785   0.72896237   0.55825219   0.29691838   1.19026356\n",
       " [11]  -3.69491989  -0.37575699   0.03916194 -12.67518742  -1.61338897\n",
       " [16]  -0.44177960  -0.33670738  -1.11693068  -0.03339898  -0.28886672\n",
       " [21]  -1.27601891   0.90170074  -0.15113430 -10.08394857  -0.24873291\n",
       " [26]   0.65023670  -0.27790439  -5.83461170  -1.61706548  -0.25567901\n",
       " [31]  -2.27318026  -0.71281285   0.61858925  -1.57798909  -4.86308774\n",
       " [36]  -2.29588536  -1.00619522  -0.59462946  -1.97218105  -0.45859548\n",
       " [41]  -2.13301905   0.79483735  -1.93952495  -0.52661504  -2.75344461\n",
       " [46]  -2.45941295   2.18590849  -0.39535717  -1.42389009  -2.31219946\n",
       " [51]   0.53131640  -1.37973884  -0.20967397  -4.60964725  -4.16155047\n",
       " [56]  -6.93875991   0.36310410  -3.84583556  -1.46386813   1.69775653\n",
       " [61]  -8.70881760  -0.28096666   0.79674163   0.91285657  -2.46742638\n",
       " [66]   2.32360970  -8.57573696  -4.25464189  -0.03811944  -7.06033293\n",
       " [71]   2.33126930  -1.61219193   0.32175180  -2.75632734  -4.73082765\n",
       " [76]   0.08683839  -0.04866764   2.07634792   1.09068050  -0.07668244\n",
       " [81]  -2.44676041   0.81217044  -1.37776614  -7.63332842   0.40942478\n",
       " [86]  -0.04751613   0.26732462  -1.25532164  -0.33402078  -0.80169423\n",
       " [91]  -1.30827996  -1.30800969  -2.26441402   0.54998851  -4.65733016\n",
       " [96]  -1.11331216  -3.09480984  -2.24637935  -3.81199002  -1.30269301"
      ]
     },
     "metadata": {},
     "output_type": "display_data"
    }
   ],
   "source": [
    "#We will now perform cross-validation on a simulated data set\n",
    "#Exercise 8A: Generate a simulated data set as follows:\n",
    "set.seed (1)\n",
    "x=rnorm (100)\n",
    "y=x-2* x^2+ rnorm (100)\n",
    "y\n",
    "\n",
    "#Equation for above model:\n",
    "# Y = X − 2*X^2 + ε."
   ]
  },
  {
   "cell_type": "code",
   "execution_count": 2,
   "id": "6729013b",
   "metadata": {},
   "outputs": [
    {
     "data": {
      "image/png": "[encoded data removed]",
      "text/plain": [
       "plot without title"
      ]
     },
     "metadata": {
      "image/png": {
       "height": 420,
       "width": 420
      }
     },
     "output_type": "display_data"
    }
   ],
   "source": [
    "#Exercise 8B: Create a scatterplot of X against Y\n",
    "library(ggplot2)\n",
    "ggplot(mapping = aes(x, y)) + \n",
    "geom_point() \n",
    "\n",
    "#Observation: there is a quadratic relationship between x and y"
   ]
  },
  {
   "cell_type": "code",
   "execution_count": 3,
   "id": "24cf5685",
   "metadata": {},
   "outputs": [
    {
     "data": {
      "text/html": [
       "7.288"
      ],
      "text/latex": [
       "7.288"
      ],
      "text/markdown": [
       "7.288"
      ],
      "text/plain": [
       "[1] 7.288"
      ]
     },
     "metadata": {},
     "output_type": "display_data"
    },
    {
     "data": {
      "text/html": [
       "0.937"
      ],
      "text/latex": [
       "0.937"
      ],
      "text/markdown": [
       "0.937"
      ],
      "text/plain": [
       "[1] 0.937"
      ]
     },
     "metadata": {},
     "output_type": "display_data"
    },
    {
     "data": {
      "text/html": [
       "0.957"
      ],
      "text/latex": [
       "0.957"
      ],
      "text/markdown": [
       "0.957"
      ],
      "text/plain": [
       "[1] 0.957"
      ]
     },
     "metadata": {},
     "output_type": "display_data"
    },
    {
     "data": {
      "text/html": [
       "0.954"
      ],
      "text/latex": [
       "0.954"
      ],
      "text/markdown": [
       "0.954"
      ],
      "text/plain": [
       "[1] 0.954"
      ]
     },
     "metadata": {},
     "output_type": "display_data"
    },
    {
     "data": {
      "text/html": [
       "7.288"
      ],
      "text/latex": [
       "7.288"
      ],
      "text/markdown": [
       "7.288"
      ],
      "text/plain": [
       "[1] 7.288"
      ]
     },
     "metadata": {},
     "output_type": "display_data"
    },
    {
     "data": {
      "text/html": [
       "0.937"
      ],
      "text/latex": [
       "0.937"
      ],
      "text/markdown": [
       "0.937"
      ],
      "text/plain": [
       "[1] 0.937"
      ]
     },
     "metadata": {},
     "output_type": "display_data"
    },
    {
     "data": {
      "text/html": [
       "0.957"
      ],
      "text/latex": [
       "0.957"
      ],
      "text/markdown": [
       "0.957"
      ],
      "text/plain": [
       "[1] 0.957"
      ]
     },
     "metadata": {},
     "output_type": "display_data"
    },
    {
     "data": {
      "text/html": [
       "0.954"
      ],
      "text/latex": [
       "0.954"
      ],
      "text/markdown": [
       "0.954"
      ],
      "text/plain": [
       "[1] 0.954"
      ]
     },
     "metadata": {},
     "output_type": "display_data"
    }
   ],
   "source": [
    "#Exercise 8C: Set a random seed, and then compute the LOOCV errors that result from fitting the following four models using least squares\n",
    "#Exercises 8Ci: Y = β0 + β1X + ǫ\n",
    "library(boot)\n",
    "\n",
    "set.seed(1)\n",
    "Locdata <- data.frame(x, y)\n",
    "fit.glm.01 <- glm(y ~ x)\n",
    "round(cv.glm(Locdata, fit.glm.01)$delta[1], 3)\n",
    "\n",
    "#Exercise 8Cii: Y = β0 + β1X + β2X2 + ǫ\n",
    "fit.glm.02<- glm(y ~ poly(x, 2))\n",
    "round(cv.glm(Locdata, fit.glm.02)$delta[1], 3)\n",
    "\n",
    "#Exercise 8Ciii: Y = β0 + β1X + β2X2 + β3X3 + ǫ\n",
    "fit.glm.03 <- glm(y ~ poly(x, 3))\n",
    "round(cv.glm(Locdata, fit.glm.03)$delta[1], 3)\n",
    "\n",
    "#Exercise 8Civ:Y = β0 + β1X + β2X2 + β3X3 + β4X4 + ǫ\n",
    "fit.glm.04 <- glm(y ~ poly(x, 4))\n",
    "round(cv.glm(Locdata, fit.glm.04)$delta[1], 3)\n",
    "\n",
    "#Exercise 8D: Repeat (c) using another random seed, and report your results\n",
    "#First Exercise 8ci:\n",
    "set.seed(20)\n",
    "fit.glm.01 <- glm(y ~ x)\n",
    "round(cv.glm(Locdata, fit.glm.01)$delta[1], 3)\n",
    "\n",
    "#Second Exercise 8cii:\n",
    "fit.glm.02 <- glm(y ~ poly(x, 2))\n",
    "round(cv.glm(Locdata, fit.glm.02)$delta[1],3)\n",
    "\n",
    "#Third Exercise 8ciiii:\n",
    "fit.glm.03 <- glm(y ~ poly(x, 3))\n",
    "round(cv.glm(Locdata, fit.glm.03)$delta[1], 3)\n",
    "\n",
    "#Fourth  Exercise 8civ:\n",
    "fit.glm.04 <- glm(y ~ poly(x, 4))\n",
    "round(cv.glm(Locdata, fit.glm.04)$delta[1], 3)\n",
    "\n",
    "#Observations:\n",
    "#They are both the same results. However, LOOCV evaluates n folds of each observations."
   ]
  },
  {
   "cell_type": "code",
   "execution_count": 4,
   "id": "92e721d4",
   "metadata": {},
   "outputs": [
    {
     "data": {
      "image/png": "[encoded data removed]",
      "text/plain": [
       "plot without title"
      ]
     },
     "metadata": {
      "image/png": {
       "height": 420,
       "width": 420
      }
     },
     "output_type": "display_data"
    },
    {
     "data": {
      "image/png": "[encoded data removed]",
      "text/plain": [
       "plot without title"
      ]
     },
     "metadata": {
      "image/png": {
       "height": 420,
       "width": 420
      }
     },
     "output_type": "display_data"
    },
    {
     "data": {
      "image/png": "[encoded data removed]",
      "text/plain": [
       "plot without title"
      ]
     },
     "metadata": {
      "image/png": {
       "height": 420,
       "width": 420
      }
     },
     "output_type": "display_data"
    },
    {
     "data": {
      "image/png": "[encoded data removed]",
      "text/plain": [
       "plot without title"
      ]
     },
     "metadata": {
      "image/png": {
       "height": 420,
       "width": 420
      }
     },
     "output_type": "display_data"
    }
   ],
   "source": [
    "#Exercise 8E: Which of the models in (c) had the smallest LOOCV error?\n",
    "graph1 <- ggplot(mapping = aes(x, y)) + \n",
    "geom_point() +\n",
    "geom_smooth(method = glm, formula = \"y ~ x\") + \n",
    "ggtitle(\"Fit 01\")\n",
    "graph1\n",
    "\n",
    "graph2 <- ggplot(mapping = aes(x, y)) + \n",
    "geom_point() +\n",
    "geom_smooth(method = glm, formula = \"y ~ poly(x, 2)\") +\n",
    "ggtitle(\"Fit 02\")\n",
    "graph2\n",
    "\n",
    "graph3 <- ggplot(mapping = aes(x, y)) + \n",
    "geom_point() +\n",
    "geom_smooth(method = glm, formula = \"y ~ poly(x, 3)\") +\n",
    "ggtitle(\"Fit 03\")\n",
    "graph3\n",
    "\n",
    "graph4 <- ggplot(mapping = aes(x, y)) + \n",
    "geom_point() +\n",
    "geom_smooth(method = glm, formula = \"y ~ poly(x, 4)\") +\n",
    "ggtitle(\"Fit 04\")\n",
    "graph4\n",
    "\n",
    "#Observation:Although the quadratic model has the smallest LOOCV error, the second, third, and fourth order polynomial fits perform slightly differently."
   ]
  },
  {
   "cell_type": "code",
   "execution_count": 5,
   "id": "a4ac1d8e",
   "metadata": {},
   "outputs": [
    {
     "name": "stderr",
     "output_type": "stream",
     "text": [
      "Your code contains a unicode char which cannot be displayed in your\n",
      "current locale and R will silently convert it to an escaped form when the\n",
      "R kernel executes this code. This can lead to subtle errors if you use\n",
      "such chars to do comparisons. For more information, please see\n",
      "https://github.com/IRkernel/repr/wiki/Problems-with-unicode-on-windows"
     ]
    },
    {
     "data": {
      "text/plain": [
       "\n",
       "Call:\n",
       "glm(formula = y ~ x)\n",
       "\n",
       "Deviance Residuals: \n",
       "    Min       1Q   Median       3Q      Max  \n",
       "-9.5161  -0.6800   0.6812   1.5491   3.8183  \n",
       "\n",
       "Coefficients:\n",
       "            Estimate Std. Error t value Pr(>|t|)    \n",
       "(Intercept)  -1.6254     0.2619  -6.205 1.31e-08 ***\n",
       "x             0.6925     0.2909   2.380   0.0192 *  \n",
       "---\n",
       "Signif. codes:  0 '***' 0.001 '**' 0.01 '*' 0.05 '.' 0.1 ' ' 1\n",
       "\n",
       "(Dispersion parameter for gaussian family taken to be 6.760719)\n",
       "\n",
       "    Null deviance: 700.85  on 99  degrees of freedom\n",
       "Residual deviance: 662.55  on 98  degrees of freedom\n",
       "AIC: 478.88\n",
       "\n",
       "Number of Fisher Scoring iterations: 2\n"
      ]
     },
     "metadata": {},
     "output_type": "display_data"
    },
    {
     "data": {
      "text/plain": [
       "\n",
       "Call:\n",
       "glm(formula = y ~ poly(x, 2))\n",
       "\n",
       "Deviance Residuals: \n",
       "    Min       1Q   Median       3Q      Max  \n",
       "-1.9650  -0.6254  -0.1288   0.5803   2.2700  \n",
       "\n",
       "Coefficients:\n",
       "            Estimate Std. Error t value Pr(>|t|)    \n",
       "(Intercept)  -1.5500     0.0958  -16.18  < 2e-16 ***\n",
       "poly(x, 2)1   6.1888     0.9580    6.46 4.18e-09 ***\n",
       "poly(x, 2)2 -23.9483     0.9580  -25.00  < 2e-16 ***\n",
       "---\n",
       "Signif. codes:  0 '***' 0.001 '**' 0.01 '*' 0.05 '.' 0.1 ' ' 1\n",
       "\n",
       "(Dispersion parameter for gaussian family taken to be 0.9178258)\n",
       "\n",
       "    Null deviance: 700.852  on 99  degrees of freedom\n",
       "Residual deviance:  89.029  on 97  degrees of freedom\n",
       "AIC: 280.17\n",
       "\n",
       "Number of Fisher Scoring iterations: 2\n"
      ]
     },
     "metadata": {},
     "output_type": "display_data"
    },
    {
     "data": {
      "text/plain": [
       "\n",
       "Call:\n",
       "glm(formula = y ~ poly(x, 3))\n",
       "\n",
       "Deviance Residuals: \n",
       "    Min       1Q   Median       3Q      Max  \n",
       "-1.9765  -0.6302  -0.1227   0.5545   2.2843  \n",
       "\n",
       "Coefficients:\n",
       "             Estimate Std. Error t value Pr(>|t|)    \n",
       "(Intercept)  -1.55002    0.09626 -16.102  < 2e-16 ***\n",
       "poly(x, 3)1   6.18883    0.96263   6.429 4.97e-09 ***\n",
       "poly(x, 3)2 -23.94830    0.96263 -24.878  < 2e-16 ***\n",
       "poly(x, 3)3   0.26411    0.96263   0.274    0.784    \n",
       "---\n",
       "Signif. codes:  0 '***' 0.001 '**' 0.01 '*' 0.05 '.' 0.1 ' ' 1\n",
       "\n",
       "(Dispersion parameter for gaussian family taken to be 0.9266599)\n",
       "\n",
       "    Null deviance: 700.852  on 99  degrees of freedom\n",
       "Residual deviance:  88.959  on 96  degrees of freedom\n",
       "AIC: 282.09\n",
       "\n",
       "Number of Fisher Scoring iterations: 2\n"
      ]
     },
     "metadata": {},
     "output_type": "display_data"
    },
    {
     "data": {
      "text/plain": [
       "\n",
       "Call:\n",
       "glm(formula = y ~ poly(x, 4))\n",
       "\n",
       "Deviance Residuals: \n",
       "    Min       1Q   Median       3Q      Max  \n",
       "-2.0550  -0.6212  -0.1567   0.5952   2.2267  \n",
       "\n",
       "Coefficients:\n",
       "             Estimate Std. Error t value Pr(>|t|)    \n",
       "(Intercept)  -1.55002    0.09591 -16.162  < 2e-16 ***\n",
       "poly(x, 4)1   6.18883    0.95905   6.453 4.59e-09 ***\n",
       "poly(x, 4)2 -23.94830    0.95905 -24.971  < 2e-16 ***\n",
       "poly(x, 4)3   0.26411    0.95905   0.275    0.784    \n",
       "poly(x, 4)4   1.25710    0.95905   1.311    0.193    \n",
       "---\n",
       "Signif. codes:  0 '***' 0.001 '**' 0.01 '*' 0.05 '.' 0.1 ' ' 1\n",
       "\n",
       "(Dispersion parameter for gaussian family taken to be 0.9197797)\n",
       "\n",
       "    Null deviance: 700.852  on 99  degrees of freedom\n",
       "Residual deviance:  87.379  on 95  degrees of freedom\n",
       "AIC: 282.3\n",
       "\n",
       "Number of Fisher Scoring iterations: 2\n"
      ]
     },
     "metadata": {},
     "output_type": "display_data"
    }
   ],
   "source": [
    "#Exercise 8F: Comment on the statistical significance of the coefficient estimates that results from fitting each of the models in (c) using least squares.\n",
    "#Exercise 8Fi: Y=β0+β1X+ϵ\n",
    "summary(fit.glm.01)\n",
    "\n",
    "#Exercise 8Fii: Y = β0 + β1X + β2X2 + ǫ\n",
    "summary(fit.glm.02)\n",
    "\n",
    "#Exercise 8Fiii: Y = β0 + β1X + β2X2 + β3X3 + ǫ\n",
    "summary(fit.glm.03)\n",
    "\n",
    "#Exercise 8Fiv: Y = β0 + β1X + β2X2 + β3X3 + β4X4 + ǫ\n",
    "summary(fit.glm.04)\n",
    "\n",
    "#Observation: \n",
    "#The p-values show that the linear and quadratic terms are statistically significant, but the cubic and fourth degree terms are not."
   ]
  },
  {
   "cell_type": "markdown",
   "id": "adolescent-botswana",
   "metadata": {},
   "source": [
    "### Chapter 6 Exercise 1 (Page 259, Conceptual)"
   ]
  },
  {
   "cell_type": "markdown",
   "id": "related-fruit",
   "metadata": {},
   "source": [
    "We perform best subset, forward step-wise, and backward step-wise selection on a single data set. For each approach, we obtain p+1 models, containing 0,1,2,...,p predictors. Explain your answers:\n",
    "\n",
    "(a) Which of the three models with k predictors has the smallest training RSS?"
   ]
  },
  {
   "cell_type": "markdown",
   "id": "painted-classics",
   "metadata": {},
   "source": [
    "The smallest training RSS will be for the model with best subset. This is because the model will be chosen after considering all the possible models with k parameters. This is not true for either backward stepwise or forward stepwise."
   ]
  },
  {
   "cell_type": "markdown",
   "id": "robust-chase",
   "metadata": {},
   "source": [
    "(b) Which of the three models with k predictors has the smallest test RSS?"
   ]
  },
  {
   "cell_type": "markdown",
   "id": "heard-american",
   "metadata": {},
   "source": [
    "Cannot be determined."
   ]
  },
  {
   "cell_type": "markdown",
   "id": "loving-middle",
   "metadata": {},
   "source": [
    "(c) True or False:\n",
    "\n",
    "i. The predictors in the k-variable model identified by forward step-wise are a subset of the predictors in the (k+1)- variable model identified by forward step-wise selection.\n",
    "\n",
    "TRUE\n",
    "\n",
    "ii. The predictors in the k-variable model identified by backward stepwise are a subset of the predictors in the (k+1) -variable model identified by backward stepwise selection.\n",
    "\n",
    "TRUE\n",
    "\n",
    "iii. The predictors in the k-variable model identified by backward stepwise are a subset of the predictors in the (k+1) -variable model identified by forward step-wise selection.\n",
    "\n",
    "FALSE\n",
    "\n",
    "iv. The predictors in the k-variable model identified by forward step-wise are a subset of the predictors in the (k+1) -variable model identified by backward step-wise selection.\n",
    "\n",
    "FALSE\n",
    "\n",
    "v. The predictors in the k-variable model identified by best subset are a subset of the predictors in the (k+1) -variable model identified by best subset selection.\n",
    "\n",
    "FALSE"
   ]
  },
  {
   "cell_type": "markdown",
   "id": "spiritual-samoa",
   "metadata": {},
   "source": [
    "### Chapter 6 Exercise 9 (Page 263, Applied)"
   ]
  },
  {
   "cell_type": "markdown",
   "id": "northern-artist",
   "metadata": {},
   "source": [
    "In this exercise, we will predict the number of applications received using the other variables in the College dataset.\n",
    "\n",
    "(a) Split the data set into a training set and a test set."
   ]
  },
  {
   "cell_type": "code",
   "execution_count": 12,
   "id": "outstanding-government",
   "metadata": {},
   "outputs": [],
   "source": [
    "library(ISLR)\n",
    "data(College)\n",
    "set.seed(11)\n",
    "train <- sample(dim(College)[1], dim(College)[1] / 2)\n",
    "test <- -train\n",
    "College_train <- College[train, ]\n",
    "College_test <- College[test, ]"
   ]
  },
  {
   "cell_type": "markdown",
   "id": "decreased-gossip",
   "metadata": {},
   "source": [
    "(b) Fit a linear model using least squares on the training set, and report the test error obtained."
   ]
  },
  {
   "cell_type": "code",
   "execution_count": 13,
   "id": "familiar-madness",
   "metadata": {},
   "outputs": [
    {
     "data": {
      "text/html": [
       "1026095.92589411"
      ],
      "text/latex": [
       "1026095.92589411"
      ],
      "text/markdown": [
       "1026095.92589411"
      ],
      "text/plain": [
       "[1] 1026096"
      ]
     },
     "metadata": {},
     "output_type": "display_data"
    }
   ],
   "source": [
    "model_a <- lm(Apps ~ ., data = College_train)\n",
    "predictions <- predict(model_a, College_test)\n",
    "# sum(predictions == College_test$Apps) / length(predictions)\n",
    "mean((predictions - College_test$Apps)^2)"
   ]
  },
  {
   "cell_type": "markdown",
   "id": "common-impression",
   "metadata": {},
   "source": [
    "(c) Fit a ridge regression model on the training set, with λ chosen by cross-validation. Report the test error obtained."
   ]
  },
  {
   "cell_type": "code",
   "execution_count": 14,
   "id": "fitted-collaboration",
   "metadata": {},
   "outputs": [
    {
     "name": "stderr",
     "output_type": "stream",
     "text": [
      "Loading required package: Matrix\n",
      "Loading required package: foreach\n",
      "Loaded glmnet 2.0-16\n",
      "\n"
     ]
    },
    {
     "data": {
      "text/html": [
       "0.01"
      ],
      "text/latex": [
       "0.01"
      ],
      "text/markdown": [
       "0.01"
      ],
      "text/plain": [
       "[1] 0.01"
      ]
     },
     "metadata": {},
     "output_type": "display_data"
    }
   ],
   "source": [
    "library(glmnet)\n",
    "train_mat <- model.matrix(Apps ~ ., data = College_train)\n",
    "test_mat <- model.matrix(Apps ~ ., data = College_test)\n",
    "grid <- 10 ^ seq(4, -2, length = 100)\n",
    "model_ridge <- glmnet(train_mat, College_train$Apps, alpha = 0, lambda = grid, thresh = 1e-12)\n",
    "cv_ridge <- cv.glmnet(train_mat, College_train$Apps, alpha = 0, lambda = grid, thresh = 1e-12)\n",
    "bestlam_ridge <- cv_ridge$lambda.min\n",
    "bestlam_ridge"
   ]
  },
  {
   "cell_type": "code",
   "execution_count": 15,
   "id": "sufficient-advertising",
   "metadata": {},
   "outputs": [
    {
     "data": {
      "text/html": [
       "1026068.65314469"
      ],
      "text/latex": [
       "1026068.65314469"
      ],
      "text/markdown": [
       "1026068.65314469"
      ],
      "text/plain": [
       "[1] 1026069"
      ]
     },
     "metadata": {},
     "output_type": "display_data"
    }
   ],
   "source": [
    "predictions <- predict(model_ridge, s = bestlam_ridge, newx = test_mat)\n",
    "mean((predictions - College_test$Apps)^2)"
   ]
  },
  {
   "cell_type": "markdown",
   "id": "jewish-conservative",
   "metadata": {},
   "source": [
    "The error is almost the same."
   ]
  },
  {
   "cell_type": "markdown",
   "id": "solid-apache",
   "metadata": {},
   "source": [
    "(d) Fit a lasso model on the training set, with λ chosen by cross-validation. Report the test error obtained, along with the number of non-zero coefficient estimates."
   ]
  },
  {
   "cell_type": "code",
   "execution_count": 16,
   "id": "hollywood-sunrise",
   "metadata": {},
   "outputs": [
    {
     "data": {
      "text/html": [
       "0.01"
      ],
      "text/latex": [
       "0.01"
      ],
      "text/markdown": [
       "0.01"
      ],
      "text/plain": [
       "[1] 0.01"
      ]
     },
     "metadata": {},
     "output_type": "display_data"
    }
   ],
   "source": [
    "model_lasso <- glmnet(train_mat, College_train$Apps, alpha = 1, lambda = grid, thresh = 1e-12)\n",
    "cv.lasso <- cv.glmnet(train_mat, College_train$Apps, alpha = 1, lambda = grid, thresh = 1e-12)\n",
    "bestlam.lasso <- cv.lasso$lambda.min\n",
    "bestlam.lasso"
   ]
  },
  {
   "cell_type": "code",
   "execution_count": 17,
   "id": "fleet-pacific",
   "metadata": {},
   "outputs": [
    {
     "data": {
      "text/html": [
       "1026035.85789427"
      ],
      "text/latex": [
       "1026035.85789427"
      ],
      "text/markdown": [
       "1026035.85789427"
      ],
      "text/plain": [
       "[1] 1026036"
      ]
     },
     "metadata": {},
     "output_type": "display_data"
    }
   ],
   "source": [
    "predictions <- predict(model_lasso, s = bestlam.lasso, newx = test_mat)\n",
    "mean((predictions - College_test$Apps)^2)"
   ]
  },
  {
   "cell_type": "markdown",
   "id": "serial-implementation",
   "metadata": {},
   "source": [
    "The error is again almost the same."
   ]
  },
  {
   "cell_type": "markdown",
   "id": "disturbed-pixel",
   "metadata": {},
   "source": [
    "(e) Fit a PCR model on the training set, with M chosen by cross-validation. Report the test error obtained, along with the value of M selected by cross-validation.\n",
    "\n",
    "(f) Fit a PLS model on the training set, with M chosen by cross-validation. Report the test error obtained, along with the value of M selected by cross-validation."
   ]
  },
  {
   "cell_type": "code",
   "execution_count": 18,
   "id": "yellow-gender",
   "metadata": {},
   "outputs": [
    {
     "name": "stderr",
     "output_type": "stream",
     "text": [
      "Warning message:\n",
      "\"package 'pls' was built under R version 3.6.3\"\n",
      "Attaching package: 'pls'\n",
      "\n",
      "The following object is masked from 'package:stats':\n",
      "\n",
      "    loadings\n",
      "\n"
     ]
    },
    {
     "data": {
      "text/html": [
       "1867486.04890402"
      ],
      "text/latex": [
       "1867486.04890402"
      ],
      "text/markdown": [
       "1867486.04890402"
      ],
      "text/plain": [
       "[1] 1867486"
      ]
     },
     "metadata": {},
     "output_type": "display_data"
    }
   ],
   "source": [
    "library(pls)\n",
    "model_pcr <- pcr(Apps ~ ., data = College_train, scale = TRUE, validation = \"CV\")\n",
    "# validationplot(model_pcr, val.type = \"MSEP\")\n",
    "predictions <- predict(model_pcr, College_test, ncomp = 10)\n",
    "mean((predictions - College_test$Apps)^2)"
   ]
  },
  {
   "cell_type": "markdown",
   "id": "incorporate-plain",
   "metadata": {},
   "source": [
    "The error is very high."
   ]
  },
  {
   "cell_type": "markdown",
   "id": "fifteen-racing",
   "metadata": {},
   "source": [
    "(g) Comment on the results obtained. How accurately can we predict the number of college applications received? Is there much difference among the test errors resulting from these five approaches?"
   ]
  },
  {
   "cell_type": "markdown",
   "id": "secondary-miracle",
   "metadata": {},
   "source": [
    "All models, except PCR, predict college applications with high accuracy."
   ]
  },
  {
   "cell_type": "markdown",
   "id": "least-wheel",
   "metadata": {},
   "source": [
    "### Chapter 7 Exercise 9 (Page 299, Applied)"
   ]
  },
  {
   "cell_type": "markdown",
   "id": "polished-rwanda",
   "metadata": {},
   "source": [
    "This question uses the variables dis(the weighted mean of distances to five Boston employment centers) and nox(nitrogen oxides concentration in parts per 10 million) from the Boston data. We will treat dis as the predictor and nox as the response.\n",
    "\n",
    "(a) Use the poly() function to fit a cubic polynomial regression to predict nox using dis. Report the regression output, and plot the resulting data and polynomial fits."
   ]
  },
  {
   "cell_type": "code",
   "execution_count": 19,
   "id": "compact-passage",
   "metadata": {},
   "outputs": [
    {
     "name": "stderr",
     "output_type": "stream",
     "text": [
      "Warning message:\n",
      "\"package 'MASS' was built under R version 3.6.3\"Registered S3 method overwritten by 'rvest':\n",
      "  method            from\n",
      "  read_xml.response xml2\n",
      "-- Attaching packages ------------------------------------------------------------------------------- tidyverse 1.2.1 --\n",
      "v ggplot2 3.3.3     v purrr   0.3.2\n",
      "v tibble  3.0.5     v dplyr   1.0.3\n",
      "v tidyr   1.1.2     v stringr 1.4.0\n",
      "v readr   1.3.1     v forcats 0.4.0\n",
      "Warning message:\n",
      "\"package 'ggplot2' was built under R version 3.6.3\"Warning message:\n",
      "\"package 'tibble' was built under R version 3.6.3\"Warning message:\n",
      "\"package 'tidyr' was built under R version 3.6.3\"Warning message:\n",
      "\"package 'dplyr' was built under R version 3.6.3\"-- Conflicts ---------------------------------------------------------------------------------- tidyverse_conflicts() --\n",
      "x purrr::accumulate() masks foreach::accumulate()\n",
      "x tidyr::expand()     masks Matrix::expand()\n",
      "x dplyr::filter()     masks stats::filter()\n",
      "x dplyr::lag()        masks stats::lag()\n",
      "x tidyr::pack()       masks Matrix::pack()\n",
      "x dplyr::select()     masks MASS::select()\n",
      "x tidyr::unpack()     masks Matrix::unpack()\n",
      "x purrr::when()       masks foreach::when()\n",
      "Warning message:\n",
      "\"package 'ggthemes' was built under R version 3.6.3\"Warning message:\n",
      "\"package 'caret' was built under R version 3.6.3\"Loading required package: lattice\n",
      "\n",
      "Attaching package: 'caret'\n",
      "\n",
      "The following object is masked from 'package:purrr':\n",
      "\n",
      "    lift\n",
      "\n",
      "The following object is masked from 'package:pls':\n",
      "\n",
      "    R2\n",
      "\n"
     ]
    },
    {
     "data": {
      "text/plain": [
       "\n",
       "\n",
       "|term          | estimate| std.error| statistic| p.value|\n",
       "|:-------------|--------:|---------:|---------:|-------:|\n",
       "|(Intercept)   |    0.555|     0.003|   201.021|       0|\n",
       "|poly(dis, 3)1 |   -2.003|     0.062|   -32.271|       0|\n",
       "|poly(dis, 3)2 |    0.856|     0.062|    13.796|       0|\n",
       "|poly(dis, 3)3 |   -0.318|     0.062|    -5.124|       0|"
      ]
     },
     "metadata": {},
     "output_type": "display_data"
    }
   ],
   "source": [
    "library(MASS) \n",
    "library(tidyverse) \n",
    "library(ggplot2) \n",
    "library(ggthemes)\n",
    "library(broom) \n",
    "library(knitr) \n",
    "library(caret)\n",
    "theme_set(theme_tufte(base_size = 14) + theme(legend.position = 'top'))\n",
    "data('Boston')\n",
    "\n",
    "model <- lm(nox ~ poly(dis, 3), data = Boston)\n",
    "tidy(model) %>%\n",
    "    kable(digits = 3)"
   ]
  },
  {
   "cell_type": "markdown",
   "id": "collaborative-pasta",
   "metadata": {},
   "source": [
    "(b) Plot the polynomial fits for a range of different polynomial degrees (say, from 1 to 10), and report the associated residual sum of squares."
   ]
  },
  {
   "cell_type": "code",
   "execution_count": 20,
   "id": "amateur-heater",
   "metadata": {
    "scrolled": true
   },
   "outputs": [
    {
     "name": "stderr",
     "output_type": "stream",
     "text": [
      "Warning message:\n",
      "\"`data_frame()` is deprecated as of tibble 1.1.0.\n",
      "Please use `tibble()` instead.\n",
      "This warning is displayed once every 8 hours.\n",
      "Call `lifecycle::last_warnings()` to see where this warning was generated.\""
     ]
    },
    {
     "data": {
      "image/png": "[encoded data removed]",
      "text/plain": [
       "plot without title"
      ]
     },
     "metadata": {},
     "output_type": "display_data"
    }
   ],
   "source": [
    "errors <- list()\n",
    "models <- list()\n",
    "pred_df <- data_frame(V1 = 1:506)\n",
    "for (i in 1:9) {\n",
    "    models[[i]] <- lm(nox ~ poly(dis, i), data = Boston)\n",
    "    preds <- predict(models[[i]])\n",
    "    pred_df[[i]] <- preds\n",
    "    errors[[i]] <- sqrt(mean((Boston$nox - preds)^2))\n",
    "}\n",
    "\n",
    "errors <- unlist(errors)\n",
    "\n",
    "names(pred_df) <- paste('Level', 1:9)\n",
    "Boston %>%\n",
    "    mutate(pred = predict(model, Boston)) %>%\n",
    "    ggplot() +\n",
    "    geom_point(aes(dis, nox, col = '1')) +\n",
    "    geom_line(aes(dis, pred, col = '2'), size = 1.5) +\n",
    "    scale_color_manual(name = 'Value Type',\n",
    "                       labels = c('Observed', 'Predicted'),\n",
    "                       values = c('#56B4E9', '#E69F00'))"
   ]
  },
  {
   "cell_type": "code",
   "execution_count": 21,
   "id": "auburn-clinic",
   "metadata": {},
   "outputs": [
    {
     "data": {
      "image/png": "[encoded data removed]",
      "text/plain": [
       "plot without title"
      ]
     },
     "metadata": {},
     "output_type": "display_data"
    }
   ],
   "source": [
    "Boston %>%\n",
    "    cbind(pred_df) %>%\n",
    "    gather(Polynomial, prediction, -(1:14)) %>%\n",
    "    mutate(Polynomial = factor(Polynomial, \n",
    "                               levels = unique(as.character(Polynomial)))) %>%\n",
    "    ggplot() + \n",
    "    ggtitle('Predicted Values for Each Level of Polynomial') +\n",
    "    geom_point(aes(dis, nox, col = '1')) + \n",
    "    geom_line(aes(dis, prediction, col = '2'), size = 1.5) +\n",
    "    scale_color_manual(name = 'Value Type',\n",
    "                       labels = c('Observed', 'Predicted'),\n",
    "                       values = c('#56B4E9', '#E69F00')) +\n",
    "    facet_wrap(~ Polynomial, nrow = 3)"
   ]
  },
  {
   "cell_type": "markdown",
   "id": "limiting-backing",
   "metadata": {},
   "source": [
    "(c) Perform cross-validation or another approach to select the optimal degree for the polynomial, and explain your results."
   ]
  },
  {
   "cell_type": "code",
   "execution_count": 22,
   "id": "mobile-congress",
   "metadata": {},
   "outputs": [
    {
     "data": {
      "image/png": "[encoded data removed]",
      "text/plain": [
       "plot without title"
      ]
     },
     "metadata": {},
     "output_type": "display_data"
    }
   ],
   "source": [
    "errors <- list()\n",
    "\n",
    "folds <- sample(1:10, 506, replace = TRUE)\n",
    "errors <- matrix(NA, 10, 9)\n",
    "for (k in 1:10) {\n",
    "    for (i in 1:9) {\n",
    "        model <- lm(nox ~ poly(dis, i), data = Boston[folds != k,])\n",
    "        pred <- predict(model, Boston[folds == k,])\n",
    "        errors[k, i] <- sqrt(mean((Boston$nox[folds == k] - pred)^2))\n",
    "    }\n",
    "}\n",
    "\n",
    "errors <- apply(errors, 2, mean)\n",
    "\n",
    "data_frame(RMSE = errors) %>%\n",
    "    mutate(Poly = row_number()) %>%\n",
    "    ggplot(aes(Poly, RMSE, fill = Poly == which.min(errors))) +\n",
    "    geom_col() + theme_tufte() + guides(fill = FALSE) +\n",
    "    scale_x_continuous(breaks = 1:9) +\n",
    "    coord_cartesian(ylim = range(errors))"
   ]
  },
  {
   "cell_type": "markdown",
   "id": "ordered-powell",
   "metadata": {},
   "source": [
    "(d) Use the bs() function to fit a regression spline to predict nox using dis. Report the output for the fit using four degrees of freedom. How did you choose the knots? Plot the resulting fit."
   ]
  },
  {
   "cell_type": "code",
   "execution_count": 23,
   "id": "numerical-secondary",
   "metadata": {},
   "outputs": [
    {
     "name": "stderr",
     "output_type": "stream",
     "text": [
      "Loading required package: splines\n"
     ]
    },
    {
     "data": {
      "text/plain": [
       "\n",
       "\n",
       "|term             | estimate| std.error| statistic| p.value|\n",
       "|:----------------|--------:|---------:|---------:|-------:|\n",
       "|(Intercept)      |    0.734|     0.015|    50.306|   0.000|\n",
       "|bs(dis, df = 4)1 |   -0.058|     0.022|    -2.658|   0.008|\n",
       "|bs(dis, df = 4)2 |   -0.464|     0.024|   -19.596|   0.000|\n",
       "|bs(dis, df = 4)3 |   -0.200|     0.043|    -4.634|   0.000|\n",
       "|bs(dis, df = 4)4 |   -0.389|     0.046|    -8.544|   0.000|"
      ]
     },
     "metadata": {},
     "output_type": "display_data"
    }
   ],
   "source": [
    "require(splines)\n",
    "model <- lm(nox ~ bs(dis, df = 4), data = Boston)\n",
    "\n",
    "kable(tidy(model), digits = 3)"
   ]
  },
  {
   "cell_type": "code",
   "execution_count": 24,
   "id": "suitable-suggestion",
   "metadata": {},
   "outputs": [
    {
     "data": {
      "image/png": "[encoded data removed]",
      "text/plain": [
       "plot without title"
      ]
     },
     "metadata": {},
     "output_type": "display_data"
    }
   ],
   "source": [
    "Boston %>%\n",
    "    mutate(pred = predict(model)) %>%\n",
    "    ggplot() +\n",
    "    geom_point(aes(dis, nox, col = '1')) + \n",
    "    geom_line(aes(dis, pred, col = '2'), size = 1.5) +\n",
    "    scale_color_manual(name = 'Value Type',\n",
    "                       labels = c('Observed', 'Predicted'),\n",
    "                       values = c('#56B4E9', '#E69F00')) +\n",
    "    theme_tufte(base_size = 13)\n",
    "\n"
   ]
  },
  {
   "cell_type": "markdown",
   "id": "strange-chrome",
   "metadata": {},
   "source": [
    "(e) Now fit a regression spline for a range of degrees of freedom, and plot the resulting fits and report the resulting RSS. Describe the results obtained."
   ]
  },
  {
   "cell_type": "code",
   "execution_count": 25,
   "id": "criminal-climb",
   "metadata": {},
   "outputs": [
    {
     "data": {
      "image/png": "[encoded data removed]",
      "text/plain": [
       "plot without title"
      ]
     },
     "metadata": {},
     "output_type": "display_data"
    }
   ],
   "source": [
    "Boston %>%\n",
    "    cbind(pred_df) %>%\n",
    "    gather(df, prediction, -(1:14)) %>%\n",
    "    mutate(df = factor(df, levels = unique(as.character(df)))) %>%\n",
    "    ggplot() + ggtitle('Predicted Values for Each Level of Polynomial') +\n",
    "    geom_point(aes(dis, nox, col = '1')) + \n",
    "    geom_line(aes(dis, prediction, col = '2'), size = 1.5) +\n",
    "    scale_color_manual(name = 'Value Type',\n",
    "                       labels = c('Observed', 'Predicted'),\n",
    "                       values = c('#56B4E9', '#E69F00')) +\n",
    "    facet_wrap(~ df, nrow = 3)"
   ]
  },
  {
   "cell_type": "markdown",
   "id": "greater-publication",
   "metadata": {},
   "source": [
    "(f) Perform cross-validation or another approach in order to select the best degrees of freedom for a regression spline on this data. Describe your results."
   ]
  },
  {
   "cell_type": "code",
   "execution_count": 26,
   "id": "veterinary-government",
   "metadata": {},
   "outputs": [
    {
     "name": "stderr",
     "output_type": "stream",
     "text": [
      "Warning message in bs(nox, df = i):\n",
      "\"'df' was too small; have used 3\"Warning message in bs(nox, df = i):\n",
      "\"'df' was too small; have used 3\"Warning message in bs(nox, df = i):\n",
      "\"'df' was too small; have used 3\"Warning message in bs(nox, df = i):\n",
      "\"'df' was too small; have used 3\"Warning message in bs(nox, df = i):\n",
      "\"'df' was too small; have used 3\"Warning message in bs(nox, df = i):\n",
      "\"'df' was too small; have used 3\"Warning message in bs(nox, df = i):\n",
      "\"'df' was too small; have used 3\"Warning message in bs(nox, df = i):\n",
      "\"'df' was too small; have used 3\"Warning message in bs(nox, df = i):\n",
      "\"'df' was too small; have used 3\"Warning message in bs(nox, df = i):\n",
      "\"'df' was too small; have used 3\"Warning message in bs(nox, df = i):\n",
      "\"'df' was too small; have used 3\"Warning message in bs(nox, df = i):\n",
      "\"'df' was too small; have used 3\"Warning message in bs(nox, df = i):\n",
      "\"'df' was too small; have used 3\"Warning message in bs(nox, df = i):\n",
      "\"'df' was too small; have used 3\"Warning message in bs(nox, df = i):\n",
      "\"'df' was too small; have used 3\"Warning message in bs(nox, degree = 3L, knots = numeric(0), Boundary.knots = c(0.389, :\n",
      "\"some 'x' values beyond boundary knots may cause ill-conditioned bases\"Warning message in bs(nox, df = i):\n",
      "\"'df' was too small; have used 3\"Warning message in bs(nox, degree = 3L, knots = numeric(0), Boundary.knots = c(0.389, :\n",
      "\"some 'x' values beyond boundary knots may cause ill-conditioned bases\"Warning message in bs(nox, degree = 3L, knots = numeric(0), Boundary.knots = c(0.389, :\n",
      "\"some 'x' values beyond boundary knots may cause ill-conditioned bases\"Warning message in bs(nox, degree = 3L, knots = c(`50%` = 0.538), Boundary.knots = c(0.389, :\n",
      "\"some 'x' values beyond boundary knots may cause ill-conditioned bases\"Warning message in bs(nox, degree = 3L, knots = c(`33.33333%` = 0.489, `66.66667%` = 0.605:\n",
      "\"some 'x' values beyond boundary knots may cause ill-conditioned bases\"Warning message in bs(nox, degree = 3L, knots = c(`25%` = 0.452, `50%` = 0.538, :\n",
      "\"some 'x' values beyond boundary knots may cause ill-conditioned bases\"Warning message in bs(nox, degree = 3L, knots = c(`20%` = 0.442, `40%` = 0.507, :\n",
      "\"some 'x' values beyond boundary knots may cause ill-conditioned bases\"Warning message in bs(nox, degree = 3L, knots = c(`16.66667%` = 0.437, `33.33333%` = 0.489, :\n",
      "\"some 'x' values beyond boundary knots may cause ill-conditioned bases\"Warning message in bs(nox, degree = 3L, knots = c(`14.28571%` = 0.433857142857143, :\n",
      "\"some 'x' values beyond boundary knots may cause ill-conditioned bases\"Warning message in bs(nox, df = i):\n",
      "\"'df' was too small; have used 3\"Warning message in bs(nox, df = i):\n",
      "\"'df' was too small; have used 3\"Warning message in bs(nox, df = i):\n",
      "\"'df' was too small; have used 3\"Warning message in bs(nox, df = i):\n",
      "\"'df' was too small; have used 3\""
     ]
    },
    {
     "data": {
      "image/png": "[encoded data removed]",
      "text/plain": [
       "plot without title"
      ]
     },
     "metadata": {},
     "output_type": "display_data"
    }
   ],
   "source": [
    "folds <- sample(1:10, size = 506, replace = TRUE)\n",
    "errors <- matrix(NA, 10, 9)\n",
    "models <- list()\n",
    "for (k in 1:10) {\n",
    "    for (i in 1:9) {\n",
    "        models[[i]] <- lm(nox ~ bs(nox, df = i), data = Boston[folds != k,])\n",
    "        pred <- predict(models[[i]], Boston[folds == k,])\n",
    "        errors[k, i] <- sqrt(mean((Boston$nox[folds == k] - pred)^2))\n",
    "    }\n",
    "}\n",
    "\n",
    "errors <- apply(errors, 2, mean)\n",
    "\n",
    "data_frame(RMSE = errors) %>%\n",
    "    mutate(df = row_number()) %>%\n",
    "    ggplot(aes(df, RMSE, fill = df == which.min(errors))) +\n",
    "    geom_col() + theme_tufte() + guides(fill = FALSE) +\n",
    "    scale_x_continuous(breaks = 1:9) +\n",
    "    coord_cartesian(ylim = range(errors))"
   ]
  },
  {
   "cell_type": "markdown",
   "id": "designing-testimony",
   "metadata": {},
   "source": [
    "### Chapter 7 Exercise 10 (Page 300, Applied)"
   ]
  },
  {
   "cell_type": "markdown",
   "id": "neutral-firmware",
   "metadata": {},
   "source": [
    "This question relates to the College data set.\n",
    "\n",
    "(a) Split the data into a training set and a test set. Using out-of-state tuition as the response and the other variables as the predictors, perform forward step-wise selection on the training set in order to identify a satisfactory model that uses just a subset of the predictors."
   ]
  },
  {
   "cell_type": "code",
   "execution_count": 27,
   "id": "bored-catholic",
   "metadata": {},
   "outputs": [
    {
     "name": "stderr",
     "output_type": "stream",
     "text": [
      "Warning message:\n",
      "\"package 'leaps' was built under R version 3.6.3\""
     ]
    },
    {
     "data": {
      "text/plain": [
       "Subset selection object\n",
       "Call: regsubsets.formula(Outstate ~ ., data = College, subset = train, \n",
       "    method = \"forward\")\n",
       "17 Variables  (and intercept)\n",
       "            Forced in Forced out\n",
       "PrivateYes      FALSE      FALSE\n",
       "Apps            FALSE      FALSE\n",
       "Accept          FALSE      FALSE\n",
       "Enroll          FALSE      FALSE\n",
       "Top10perc       FALSE      FALSE\n",
       "Top25perc       FALSE      FALSE\n",
       "F.Undergrad     FALSE      FALSE\n",
       "P.Undergrad     FALSE      FALSE\n",
       "Room.Board      FALSE      FALSE\n",
       "Books           FALSE      FALSE\n",
       "Personal        FALSE      FALSE\n",
       "PhD             FALSE      FALSE\n",
       "Terminal        FALSE      FALSE\n",
       "S.F.Ratio       FALSE      FALSE\n",
       "perc.alumni     FALSE      FALSE\n",
       "Expend          FALSE      FALSE\n",
       "Grad.Rate       FALSE      FALSE\n",
       "1 subsets of each size up to 8\n",
       "Selection Algorithm: forward\n",
       "         PrivateYes Apps Accept Enroll Top10perc Top25perc F.Undergrad\n",
       "1  ( 1 ) \" \"        \" \"  \" \"    \" \"    \" \"       \" \"       \" \"        \n",
       "2  ( 1 ) \"*\"        \" \"  \" \"    \" \"    \" \"       \" \"       \" \"        \n",
       "3  ( 1 ) \"*\"        \" \"  \" \"    \" \"    \" \"       \" \"       \" \"        \n",
       "4  ( 1 ) \"*\"        \" \"  \" \"    \" \"    \" \"       \" \"       \" \"        \n",
       "5  ( 1 ) \"*\"        \" \"  \" \"    \" \"    \" \"       \" \"       \" \"        \n",
       "6  ( 1 ) \"*\"        \" \"  \" \"    \" \"    \" \"       \" \"       \" \"        \n",
       "7  ( 1 ) \"*\"        \" \"  \" \"    \" \"    \" \"       \" \"       \"*\"        \n",
       "8  ( 1 ) \"*\"        \" \"  \"*\"    \" \"    \" \"       \" \"       \"*\"        \n",
       "         P.Undergrad Room.Board Books Personal PhD Terminal S.F.Ratio\n",
       "1  ( 1 ) \" \"         \" \"        \" \"   \" \"      \" \" \" \"      \" \"      \n",
       "2  ( 1 ) \" \"         \" \"        \" \"   \" \"      \" \" \" \"      \" \"      \n",
       "3  ( 1 ) \" \"         \"*\"        \" \"   \" \"      \" \" \" \"      \" \"      \n",
       "4  ( 1 ) \" \"         \"*\"        \" \"   \" \"      \" \" \" \"      \" \"      \n",
       "5  ( 1 ) \" \"         \"*\"        \" \"   \" \"      \"*\" \" \"      \" \"      \n",
       "6  ( 1 ) \" \"         \"*\"        \" \"   \" \"      \"*\" \" \"      \" \"      \n",
       "7  ( 1 ) \" \"         \"*\"        \" \"   \" \"      \"*\" \" \"      \" \"      \n",
       "8  ( 1 ) \" \"         \"*\"        \" \"   \" \"      \"*\" \" \"      \" \"      \n",
       "         perc.alumni Expend Grad.Rate\n",
       "1  ( 1 ) \" \"         \"*\"    \" \"      \n",
       "2  ( 1 ) \" \"         \"*\"    \" \"      \n",
       "3  ( 1 ) \" \"         \"*\"    \" \"      \n",
       "4  ( 1 ) \" \"         \"*\"    \"*\"      \n",
       "5  ( 1 ) \" \"         \"*\"    \"*\"      \n",
       "6  ( 1 ) \"*\"         \"*\"    \"*\"      \n",
       "7  ( 1 ) \"*\"         \"*\"    \"*\"      \n",
       "8  ( 1 ) \"*\"         \"*\"    \"*\"      "
      ]
     },
     "metadata": {},
     "output_type": "display_data"
    }
   ],
   "source": [
    "library(ISLR)\n",
    "library(leaps)\n",
    "train <- sample(1: nrow(College), nrow(College)/2)\n",
    "test <- -train\n",
    "fit <- regsubsets(Outstate ~ ., data = College, subset = train, method = 'forward')\n",
    "fit.summary <- summary(fit)\n",
    "fit.summary"
   ]
  },
  {
   "cell_type": "markdown",
   "id": "neutral-termination",
   "metadata": {},
   "source": [
    "(b) Fit a GAM on the training data, using out-of-state tuition as the response and the features selected in the previous step as the predictors. Plot the results, and explain your findings."
   ]
  },
  {
   "cell_type": "code",
   "execution_count": 31,
   "id": "departmental-poland",
   "metadata": {},
   "outputs": [
    {
     "name": "stderr",
     "output_type": "stream",
     "text": [
      "Warning message in model.matrix.default(mt, mf, contrasts):\n",
      "\"non-list contrasts argument ignored\""
     ]
    },
    {
     "data": {
      "image/png": "[encoded data removed]",
      "text/plain": [
       "plot without title"
      ]
     },
     "metadata": {},
     "output_type": "display_data"
    }
   ],
   "source": [
    "library(gam)\n",
    "gam.mod <- gam(Outstate ~ Private + s(Room.Board, 5) + s(Terminal, 5) + s(perc.alumni, 5) + s(Expend, 5) + s(Grad.Rate, 5), data = College, subset = train)\n",
    "par(mfrow = c(2,3))\n",
    "plot(gam.mod, se = TRUE, col = 'blue')"
   ]
  },
  {
   "cell_type": "markdown",
   "id": "sharing-classroom",
   "metadata": {},
   "source": [
    "(c) Evaluate the model obtained on the test set, and explain the results obtained."
   ]
  },
  {
   "cell_type": "code",
   "execution_count": 32,
   "id": "typical-belarus",
   "metadata": {},
   "outputs": [
    {
     "data": {
      "text/html": [
       "0.776249603459365"
      ],
      "text/latex": [
       "0.776249603459365"
      ],
      "text/markdown": [
       "0.776249603459365"
      ],
      "text/plain": [
       "[1] 0.7762496"
      ]
     },
     "metadata": {},
     "output_type": "display_data"
    }
   ],
   "source": [
    "preds <- predict(gam.mod, College[test, ])\n",
    "RSS <- sum((College[test, ]$Outstate - preds)^2) # based on equation (3.16)\n",
    "TSS <- sum((College[test, ]$Outstate - mean(College[test, ]$Outstate)) ^ 2)\n",
    "1 - (RSS / TSS)   # based on equation"
   ]
  },
  {
   "cell_type": "markdown",
   "id": "searching-medline",
   "metadata": {},
   "source": [
    "(d) For which variables, if any, is there evidence of a non-linear relationship with the response?"
   ]
  },
  {
   "cell_type": "code",
   "execution_count": 33,
   "id": "filled-bangladesh",
   "metadata": {},
   "outputs": [
    {
     "data": {
      "text/plain": [
       "\n",
       "Call: gam(formula = Outstate ~ Private + s(Room.Board, 5) + s(Terminal, \n",
       "    5) + s(perc.alumni, 5) + s(Expend, 5) + s(Grad.Rate, 5), \n",
       "    data = College, subset = train)\n",
       "Deviance Residuals:\n",
       "     Min       1Q   Median       3Q      Max \n",
       "-6805.32  -970.31   -21.18  1137.66  4436.10 \n",
       "\n",
       "(Dispersion Parameter for gaussian family taken to be 3183818)\n",
       "\n",
       "    Null Deviance: 6138001825 on 387 degrees of freedom\n",
       "Residual Deviance: 1149357897 on 360.9999 degrees of freedom\n",
       "AIC: 6938.864 \n",
       "\n",
       "Number of Local Scoring Iterations: 2 \n",
       "\n",
       "Anova for Parametric Effects\n",
       "                   Df     Sum Sq    Mean Sq F value    Pr(>F)    \n",
       "Private             1 1687025859 1687025859 529.875 < 2.2e-16 ***\n",
       "s(Room.Board, 5)    1 1310801944 1310801944 411.708 < 2.2e-16 ***\n",
       "s(Terminal, 5)      1  353882608  353882608 111.150 < 2.2e-16 ***\n",
       "s(perc.alumni, 5)   1  279484295  279484295  87.783 < 2.2e-16 ***\n",
       "s(Expend, 5)        1  611402231  611402231 192.034 < 2.2e-16 ***\n",
       "s(Grad.Rate, 5)     1   65853520   65853520  20.684 7.407e-06 ***\n",
       "Residuals         361 1149357897    3183818                      \n",
       "---\n",
       "Signif. codes:  0 '***' 0.001 '**' 0.01 '*' 0.05 '.' 0.1 ' ' 1\n",
       "\n",
       "Anova for Nonparametric Effects\n",
       "                  Npar Df  Npar F     Pr(F)    \n",
       "(Intercept)                                    \n",
       "Private                                        \n",
       "s(Room.Board, 5)        4  3.7745  0.005063 ** \n",
       "s(Terminal, 5)          4  2.5589  0.038443 *  \n",
       "s(perc.alumni, 5)       4  1.1295  0.342271    \n",
       "s(Expend, 5)            4 16.1716 3.412e-12 ***\n",
       "s(Grad.Rate, 5)         4  1.2962  0.271054    \n",
       "---\n",
       "Signif. codes:  0 '***' 0.001 '**' 0.01 '*' 0.05 '.' 0.1 ' ' 1"
      ]
     },
     "metadata": {},
     "output_type": "display_data"
    }
   ],
   "source": [
    "summary(gam.mod)"
   ]
  },
  {
   "cell_type": "markdown",
   "id": "judicial-container",
   "metadata": {},
   "source": [
    "Expend has a strong relationship while Grad. Rate has a very weak relationship."
   ]
  }
 ],
 "metadata": {
  "kernelspec": {
   "display_name": "R",
   "language": "R",
   "name": "ir"
  },
  "language_info": {
   "codemirror_mode": "r",
   "file_extension": ".r",
   "mimetype": "text/x-r-source",
   "name": "R",
   "pygments_lexer": "r",
   "version": "4.0.5"
  }
 },
 "nbformat": 4,
 "nbformat_minor": 5
}
